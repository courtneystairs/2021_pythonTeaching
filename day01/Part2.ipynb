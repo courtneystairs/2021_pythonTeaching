{
 "cells": [
  {
   "cell_type": "markdown",
   "id": "293ae9c0-bce6-494f-9a22-fdc8e434b9e8",
   "metadata": {},
   "source": [
    "# Part 2 \n",
    "\n",
    "Sections 05-08\n",
    "\n",
    "---\n",
    "\n",
    "## Learning objectives for Part 2\n",
    "\n",
    "- functions \n",
    "- importing modules \n",
    "- installing new modules"
   ]
  },
  {
   "cell_type": "markdown",
   "id": "1553871a-4735-4673-9445-f510f84336df",
   "metadata": {},
   "source": [
    "## Section 05 Functions \n",
    "---"
   ]
  },
  {
   "cell_type": "markdown",
   "id": "deafbcfe-60de-462e-bb38-044adbedeace",
   "metadata": {},
   "source": [
    "### Functions\n",
    "\n",
    "Python is all about making our lives easier. It might be that you want to apply the same operation to multiple different variables.  Rather than performing the operation on each variable in sequence, we can define a function that we can go back to again and again. Functions are defined using `def functionname():` and often contain a `return` feature to indicate what output should be transfered back to the main code block. Functions should be defined before your main block of codes. Notice the indentations. "
   ]
  },
  {
   "cell_type": "code",
   "execution_count": null,
   "id": "52f1a4bb-5d9a-4067-bb8b-7832b7e01dac",
   "metadata": {},
   "outputs": [],
   "source": [
    "# This is the function called 'odd_num' that will take one variable 'num'\n",
    "def odd_num(num):\n",
    "    # if the variable that we input returns a 1, then it is an odd number\n",
    "    if num % 2 == 1:\n",
    "        # report 'odd' back to the main code\n",
    "        return \"odd\"\n",
    "\n",
    "n = 11\n",
    "print(odd_num(n))"
   ]
  },
  {
   "cell_type": "markdown",
   "id": "3267b603-5f0d-484c-b8e0-521d9a93ef59",
   "metadata": {},
   "source": [
    "Notice how the variable in the function 'num' is different than the variable 'n' we feed into the function odd_num()? This is because python only pays attention to the order in which the variables are fed in.  So it reads 'n' into the function and converts it to 'num'. "
   ]
  },
  {
   "cell_type": "markdown",
   "id": "a26445ca-cdff-4522-b1bc-961d219626c9",
   "metadata": {},
   "source": [
    "Another way to use functions is to just return a True or False value. "
   ]
  },
  {
   "cell_type": "code",
   "execution_count": null,
   "id": "707bec69-02e6-4f23-b254-d9c674e9e1b4",
   "metadata": {},
   "outputs": [],
   "source": [
    "def odd_num(num):\n",
    "    if num % 2 == 1:\n",
    "        return True\n",
    "\n",
    "n = 11\n",
    "if odd_num(n):  # notice how we can omit the condition '=='\n",
    "    print(\"yea it is odd\")"
   ]
  },
  {
   "cell_type": "markdown",
   "id": "15d512c4-ff3c-4a53-b69f-84102831facc",
   "metadata": {},
   "source": [
    "There is no limit to what elements are in a function.  E.g, "
   ]
  },
  {
   "cell_type": "code",
   "execution_count": null,
   "id": "2d66bade-335a-4e87-947c-70203fbc2ea6",
   "metadata": {},
   "outputs": [],
   "source": [
    "def fib_list(n):   # return Fibonacci series up to n\n",
    "    result = []  # empty list\n",
    "    # variables defined using positional arguments; \n",
    "    # equivalent to:\n",
    "    # a = 0\n",
    "    # b = 1\n",
    "    a, b = 0, 1 \n",
    "    while a < n:\n",
    "        result.append(a)\n",
    "        a, b = b, a+b\n",
    "    return result\n",
    "\n",
    "fib_list(19)"
   ]
  },
  {
   "cell_type": "code",
   "execution_count": null,
   "id": "b3ba59c9-5a76-4eee-833f-7827e2a7b4ff",
   "metadata": {},
   "outputs": [],
   "source": [
    "# PRACTICE\n",
    "\n",
    "myList = [1,2,3,4,5,6,7,8,9]\n",
    "myOddNumbers =[] # this is an empty list\n",
    "\n",
    "# make a new function that will check for an even number\n",
    "# make a for loop that will execute this function on each element of myList \n",
    "# write only the odd numbers to the new list myOddNumber\n"
   ]
  },
  {
   "cell_type": "markdown",
   "id": "26f91800-d0d0-418c-aa4a-01367f78da93",
   "metadata": {},
   "source": [
    "### Built-in functions\n",
    "\n",
    "There are also functions you can import from modules that are built-in to python"
   ]
  },
  {
   "cell_type": "code",
   "execution_count": null,
   "id": "45d2e82f-c01b-40d0-888f-08dbb97c4644",
   "metadata": {},
   "outputs": [],
   "source": [
    "from datetime import date as d\n",
    "\n",
    "idag = d.today() # store the date in variable today\n",
    "\n",
    "#note, this is not a string but a class object 'datetime.date'\n",
    "print(type(idag))\n",
    "\n",
    "# we can convert it to a string with .isoformat()\n",
    "idag_str= idag.isoformat()\n",
    "print(type(idag_str))\n",
    "\n",
    "#we can return just the day month or year with .day\n",
    "idag_day = idag.day\n",
    "print(idag_day)"
   ]
  },
  {
   "cell_type": "code",
   "execution_count": null,
   "id": "9515b719-8be9-40e2-bae9-5b0179669052",
   "metadata": {},
   "outputs": [],
   "source": [
    "# PRACTICE \n",
    "\n",
    "# Make a countdown for how many days left until Christmas.  How many minutes?\n"
   ]
  },
  {
   "attachments": {
    "ce657400-c389-488c-8762-ad7bc5c4c62f.png": {
     "image/png": "[encoded data removed]"
    }
   },
   "cell_type": "markdown",
   "id": "81ca4dec-6e22-4679-9eb7-a38c80fba9d5",
   "metadata": {},
   "source": [
    "## Section 07 - Installing new modules & software\n",
    "---\n",
    "\n",
    "### Installing python modules - Jupyter Terminal\n",
    "\n",
    "You can install new modules for python using `conda` right in the Jupyter notebook using the built-in consol.  In the top left of this window, hit file > new terminal.\n",
    "It will look something like this: \n",
    "\n",
    "![image.png](attachment:ce657400-c389-488c-8762-ad7bc5c4c62f.png)"
   ]
  },
  {
   "attachments": {
    "c934b7e8-8b09-49be-9b8a-bccb1f20a37a.png": {
     "image/png": "[encoded data removed]"
    }
   },
   "cell_type": "markdown",
   "id": "992bec6d-009b-4afa-9b5d-fdb8a5a53bd5",
   "metadata": {},
   "source": [
    "The 'base' is referring to the conda environment we are currently in. Let's activate the course environment we set up on Friday. by typing: `source activate pythoncourse2021`\n",
    "\n",
    "![image.png](attachment:c934b7e8-8b09-49be-9b8a-bccb1f20a37a.png)"
   ]
  },
  {
   "cell_type": "markdown",
   "id": "4eaf9f9a-37a6-48bc-95b4-71375ada6db5",
   "metadata": {},
   "source": [
    "Now, any item we install will be saved to the conda enviroment 'pythoncourse2021'. Type the following to install biopython. `conda install -c conda-forge biopython`. Hit 'y' to agree. "
   ]
  },
  {
   "cell_type": "code",
   "execution_count": null,
   "id": "025f9be2-4a74-4af7-ad00-f4fd774553d5",
   "metadata": {},
   "outputs": [],
   "source": [
    "# Check the installation and path\n",
    "from Bio import SeqIO\n",
    "print(SeqIO.__file__)"
   ]
  },
  {
   "cell_type": "markdown",
   "id": "34eb1800-acd4-42b7-b81f-64ef41568467",
   "metadata": {},
   "source": [
    "### Installing python modules - within this notebook\n",
    "\n",
    "You can also install new modules for python wihtin the notebook. Code blocks can perform basic terminal functions when preceded by a '!'. The environment will be whatever environment you set when opening the notebook.  ** This method does not always work. ** "
   ]
  },
  {
   "cell_type": "code",
   "execution_count": null,
   "id": "254db064-f6dd-4c8a-9c1e-cdad93a9a013",
   "metadata": {},
   "outputs": [],
   "source": [
    "import sys\n",
    "# Here we use the prefix command to make sure that pandas \n",
    "# installs to your current environment.\n",
    "!conda install --yes --prefix {sys.prefix} pandas"
   ]
  },
  {
   "cell_type": "code",
   "execution_count": null,
   "id": "cccdd247-ff37-405b-90f2-f4f3233d7630",
   "metadata": {},
   "outputs": [],
   "source": [
    "# Check the installation and path\n",
    "import pandas as pd\n",
    "print(pd.__file__)"
   ]
  },
  {
   "cell_type": "markdown",
   "id": "5c86d4e5-6616-417a-b920-e50b1b4a1467",
   "metadata": {},
   "source": [
    "### Installing software using conda\n",
    "\n",
    "Most software packages now have a conda distribution, which means you are able to install the sofware using conda. You can easily check whether a software of interest has a conda distribution by either reading the installation instructions of a tool or visiting: anaconda.org/\n",
    "\n",
    "Let's install a tool we will need later: "
   ]
  },
  {
   "cell_type": "code",
   "execution_count": null,
   "id": "207a6198-1048-4ad1-8537-1e43bc3d412a",
   "metadata": {},
   "outputs": [],
   "source": [
    "!conda install --yes --prefix {sys.prefix} -c bioconda mafft\n",
    "\n",
    "#Check installation \n",
    "!mafft --help"
   ]
  },
  {
   "cell_type": "markdown",
   "id": "bfec49c2-a0f3-4b93-b1e1-54fc0e015c57",
   "metadata": {},
   "source": [
    "## Section 08 - working with files \n",
    "---\n",
    "\n",
    "To open a file in python, we use the `open()` function which requires the file name (string) and optionally the method (stored as a 'mode') you would like to open the file. \"r\" = reading, \"w\" = writing, \"a\" = appending.\n",
    "\n",
    "Alternatively, you can specify how you would like to open the file AFTER the open function with another function such as `read()` or `readlines()`\n"
   ]
  },
  {
   "cell_type": "code",
   "execution_count": null,
   "id": "333d21e4-7424-4d0e-b70d-43abaeb04a6a",
   "metadata": {},
   "outputs": [],
   "source": [
    "file = open(\"lines.txt\", \"r\") # open file in read 'mode'\n",
    "# when you open using 'r','w' or 'a' mode you should always \n",
    "# close the file after you are done reading, writing or appending\n",
    "\n",
    "file.close()\n",
    "print(file)\n",
    "\n",
    "file = open(\"lines.txt\").read() # open file with read() function\n",
    "# you do not need to close the file\n",
    "print(file)\n",
    "\n",
    "file_as_list = open(\"lines.txt\").readlines() # open file with readlines() function to make a list of each line\n",
    "# you do not need to close the file\n",
    "print(file_as_list)\n",
    "\n",
    "output = open(\"lines_copy.txt\" , \"w\")\n",
    "output.write(file)\n",
    "output.close()\n"
   ]
  },
  {
   "cell_type": "markdown",
   "id": "ccb42d62-02f9-4749-a5d9-143f8c182cdf",
   "metadata": {},
   "source": [
    "It's easy to forget to close a file, so we can also use the `with` loop:"
   ]
  },
  {
   "cell_type": "code",
   "execution_count": null,
   "id": "14ede4c1-1741-440d-8062-460a3082bc87",
   "metadata": {
    "tags": []
   },
   "outputs": [],
   "source": [
    "with open(\"lines.txt\", \"r\") as file:\n",
    "    print(file)\n",
    "    for x in file:\n",
    "        print(x)\n",
    "\n",
    "# outside the loop, 'file' is not readable, uncomment these lines\n",
    "# print(file)\n",
    "# for x in file:\n",
    "#    print(x)\n",
    "\n",
    "with open(\"output.txt\", \"w\") as outfile:\n",
    "    outfile.write(\"output\")\n",
    "    \n",
    "#outside the loop, 'file' is not writable, uncomment this lines\n",
    "# outfile.write(\"outputagain\")\n"
   ]
  },
  {
   "cell_type": "code",
   "execution_count": null,
   "id": "8fff27cf-0261-4663-a061-d67a66ecc928",
   "metadata": {},
   "outputs": [],
   "source": [
    "# HAND-IN 3\n",
    "\n",
    "# Open the file lines_copy.txt and write the even lines to a new file \"even_lines.txt\"\n",
    "\n",
    "# hint: you can apply '.index('item')' to a list to get the index number of 'item'\n",
    "# hint: don't forget the 0-index"
   ]
  },
  {
   "cell_type": "code",
   "execution_count": null,
   "id": "8f0d0fb3-1bf4-48c5-81fa-12b6df034ca4",
   "metadata": {},
   "outputs": [],
   "source": [
    "# HAND-IN 4\n",
    "\n",
    "# Make a function that will write a variable to a file \n",
    "\n",
    "# Apply this function to \"lines_copy.txt\" to print each line to its own file \"line_X.txt\" \n",
    "# where X is the line number"
   ]
  }
 ],
 "metadata": {
  "kernelspec": {
   "display_name": "Python 3 (ipykernel)",
   "language": "python",
   "name": "python3"
  },
  "language_info": {
   "codemirror_mode": {
    "name": "ipython",
    "version": 3
   },
   "file_extension": ".py",
   "mimetype": "text/x-python",
   "name": "python",
   "nbconvert_exporter": "python",
   "pygments_lexer": "ipython3",
   "version": "3.9.7"
  }
 },
 "nbformat": 4,
 "nbformat_minor": 5
}
