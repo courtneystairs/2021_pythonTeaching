{
 "cells": [
  {
   "cell_type": "markdown",
   "metadata": {},
   "source": [
    "## Notebook 3\n",
    "\n",
    "-- Modified from [NBIS tutorials](https://github.com/NBISweden/workshop-python/tree/vt17) \n",
    "\n"
   ]
  },
  {
   "cell_type": "markdown",
   "metadata": {},
   "source": [
    "## If / Else statements\n",
    "\n",
    "`numberList = [1,3,6,8,13,19,20,21]`\n",
    "\n",
    "1. If the total sum of the list is 80 or more, print what the sum is. If the sum is less than 80, print what the length of the list is\n",
    "\n",
    "2. If the total sum of the list is 80 or more, print what the maximum is. Otherwise, check if the length of the list is less than 20 and print the length of the list, if not, print 'It's a long list'\n",
    "\n",
    "\n",
    "Try adding numbers to your list and see if you can make your code evaluate all different outcomes"
   ]
  },
  {
   "cell_type": "markdown",
   "metadata": {},
   "source": [
    "## Open / Close files"
   ]
  },
  {
   "cell_type": "markdown",
   "metadata": {},
   "source": [
    "## Blocket ads\n",
    "\n",
    "Blocket is a Swedish site for buying or selling things, much like eBay. In the file `blocket_listings.txt` you will find a list of ads that has been put up on the site.\n",
    "\n",
    "1. Your first task is to make a small python script that takes this file as input, loops over the lines, and prints the content line by line. (Tip! Use strip to remove the newlines)  \n",
    "\n",
    "2. As we are not interested in the headers, don't print the header line (Tip! use startswith())  \n",
    "\n",
    "3. Save each word in the line as an element in a list and print the list (Tip! use split())  \n",
    "\n",
    "4. Save each element in the list to a separate variable and print the name of the item and the date. (Tip! make sure the values are of the correct type also) \n",
    "\n",
    "5. Only print items and dates that has been sold, not bought (Tip! use an if statement)   \n",
    "\n",
    "6. Save all the sold items in a list, and print the list in the end (Tip! create an empty list before the loop, and use append())  \n",
    "\n",
    "7. Now we are only interested in sold items in the furniture category, print the list for these (Tip! use an AND statement)  \n",
    "\n",
    "8. Print a list of all furniture sold in October (Tip! split date to get month)  \n",
    "\n",
    "9. Add a new list containing furniture that was BOUGHT in October. Print both lists (Tip! make a nested if statement)  \n",
    "\n",
    "10. Finally, write this information to a file called 'blocket_listings_selected.txt' that looks like this:  \n",
    "\n",
    "<i>Furniture sold in October are:</i>  \n",
    "<i>[list of items, one per line]</i>\n",
    "\n",
    "<i>Furniture bought in October are:</i>  \n",
    "<i>[list of items, one per line]</i>"
   ]
  }
 ],
 "metadata": {
  "kernelspec": {
   "display_name": "Python 3 (ipykernel)",
   "language": "python",
   "name": "python3"
  },
  "language_info": {
   "codemirror_mode": {
    "name": "ipython",
    "version": 3
   },
   "file_extension": ".py",
   "mimetype": "text/x-python",
   "name": "python",
   "nbconvert_exporter": "python",
   "pygments_lexer": "ipython3",
   "version": "3.9.7"
  }
 },
 "nbformat": 4,
 "nbformat_minor": 4
}
