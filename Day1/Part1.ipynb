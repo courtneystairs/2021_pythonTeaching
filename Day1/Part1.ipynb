{
 "cells": [
  {
   "cell_type": "markdown",
   "metadata": {
    "id": "vxXcASTPvge9"
   },
   "source": [
    "# **Part I** \n",
    "\n",
    "Sections 00-04\n",
    "\n",
    "---\n",
    "\n",
    "\n",
    "## Learning objectives for Part I\n",
    "\n",
    "- Get familiar with Jupyter or Google colab\n",
    "- Basic introduction to Markdown\n",
    "- Basics of python types\n",
    "- If/Else statements \n",
    "- 'For' loops\n",
    "\n",
    "\n",
    "---\n"
   ]
  },
  {
   "cell_type": "markdown",
   "metadata": {
    "id": "kYXxCnllwJ21"
   },
   "source": [
    "## Section 00: Introduction\n",
    "\n",
    "This is an interactive notebook you can use to keep track of your code AND run your code. Its a great way to share simple code or experimental designs.\n",
    "\n",
    "You can edit anything you want in the file, however, it will not be saved to the master document stored on github, so do not worry, you won't be able to destroy the course notes. \n",
    "\n",
    "If you delete something or break the page, remember you can always go back to the Master document and material things back in.\n",
    "\n",
    "In-class demonstration of the notebook. \n",
    "\n",
    "In this course, we're going to program in `python3` syntax."
   ]
  },
  {
   "cell_type": "markdown",
   "metadata": {
    "id": "BJC6SSp29v-i"
   },
   "source": [
    "\n",
    "## Section 01: Markdowns and comments\n",
    "### *Keeping track of what you're doing - Markdown*\n",
    "\n",
    "The text in these interactive notebooks is normally in 'Markdown', which is a language in itself.   Try double clicking on this text. \n",
    "\n",
    "We can use the asterisk character once to *italicize*, twice to **bold**, thrice for ***both*** . \n",
    "\n",
    "You can set headings using the '#' character, #=top heading; ##=second heading etc. \n",
    "\n",
    "To return this text to formatted markdown, click the play button above. You can also render all markdown text within the notebook using Run>Render All Markdown Cells."
   ]
  },
  {
   "cell_type": "markdown",
   "metadata": {
    "id": "mI3_sLXLBDDT"
   },
   "source": [
    "The point of markdown in this context, is for you to be able to write explanatory text ahead of your code that looks nice. \n",
    "\n",
    "**For** *example*: The code below uses the `print` command to print a string to the screen.  You can learn more about the `print` command at the [python webpage](https://docs.python.org/3/library/functions.html#print)."
   ]
  },
  {
   "cell_type": "code",
   "execution_count": null,
   "metadata": {
    "colab": {
     "base_uri": "https://localhost:8080/"
    },
    "id": "oasNXIA3wLZ8",
    "outputId": "2711e967-a72a-4934-e3c7-2154d6ae2adf"
   },
   "outputs": [],
   "source": [
    "print(\"Hi!\")"
   ]
  },
  {
   "cell_type": "markdown",
   "metadata": {
    "id": "v-jKcgTD8hoh"
   },
   "source": [
    "### *Keeping track of what you're doing - commenting* \n",
    "We can also using commenting directly in our code.  This is done using the hash character. "
   ]
  },
  {
   "cell_type": "code",
   "execution_count": null,
   "metadata": {
    "colab": {
     "base_uri": "https://localhost:8080/"
    },
    "id": "taJg5ochDxVc",
    "outputId": "3c36db22-ffa9-45b9-dcd0-6c1c5db04848",
    "tags": []
   },
   "outputs": [],
   "source": [
    "# This is a comment line. \n",
    "# It is often in green\n",
    "# python will ignore this.\n",
    "# The code below uses the print command to print a string 'Hi' to the screen. \n",
    "print(\"Hi!\")\n",
    "print(\"Hej!\") # Comments can even go after commands"
   ]
  },
  {
   "cell_type": "markdown",
   "metadata": {
    "id": "T806JVl8ETDe"
   },
   "source": [
    "In the codeblock below, try and write your own commented code block with a variable encoding a string (=text). Use the `print` command to print your string. Don't forget to press the 'play' button above to check if your code worked. "
   ]
  },
  {
   "cell_type": "code",
   "execution_count": null,
   "metadata": {
    "id": "jh8TdPHJEeL3"
   },
   "outputs": [],
   "source": [
    "# PRACTICE\n"
   ]
  },
  {
   "cell_type": "markdown",
   "metadata": {
    "id": "6zwlcgyWHm_K"
   },
   "source": [
    "## Section 02: Python Basics\n",
    "---\n",
    "\n",
    "### Strings & integers\n",
    "We can make variables to store information. The basic syntax is variableName = variable. The name of the variable must not have spaces. To store a string (=sequence of characters) in a variable we have to use quotation marks.  In contrast, integers are stored in variables without quotation marks."
   ]
  },
  {
   "cell_type": "code",
   "execution_count": null,
   "metadata": {
    "colab": {
     "base_uri": "https://localhost:8080/",
     "height": 35
    },
    "id": "M-4bKWwnHc_z",
    "outputId": "bdab9b46-8222-4a07-ebd5-1fdb2c54e7a0"
   },
   "outputs": [],
   "source": [
    "this_is_a_variable=\"this is a string\" # string\n",
    "this_is_also_a_variable=1234  # integer\n",
    "this_is_a_variable_too=\"1234\" # string \n",
    "\n",
    "# you can define two variables at once separated by a comma\n",
    "efficient, variables = \"1234\" , 1234 "
   ]
  },
  {
   "cell_type": "markdown",
   "metadata": {},
   "source": [
    "Variables can be overwritten, so be careful!"
   ]
  },
  {
   "cell_type": "code",
   "execution_count": null,
   "metadata": {
    "tags": []
   },
   "outputs": [],
   "source": [
    "overwrite_variable=\"abc\"\n",
    "overwrite_variable=\"def\"\n",
    "print(overwrite_variable)"
   ]
  },
  {
   "cell_type": "markdown",
   "metadata": {
    "id": "Y4fORGPlXL0r"
   },
   "source": [
    "You can perform addition with integers using '+'. "
   ]
  },
  {
   "cell_type": "code",
   "execution_count": null,
   "metadata": {
    "colab": {
     "base_uri": "https://localhost:8080/"
    },
    "id": "1NW95e1DXa0s",
    "outputId": "89da5732-0afc-46a7-875c-65c60940204e",
    "tags": []
   },
   "outputs": [],
   "source": [
    "# Here are some integers \n",
    "a=1\n",
    "b=2\n",
    "c=3 \n",
    "\n",
    "# we can print the result\n",
    "print(a+b+c)"
   ]
  },
  {
   "cell_type": "markdown",
   "metadata": {
    "id": "TL1CGrfh0Zi_"
   },
   "source": [
    "You can also use '+' to concatenate strings:"
   ]
  },
  {
   "cell_type": "code",
   "execution_count": null,
   "metadata": {
    "colab": {
     "base_uri": "https://localhost:8080/",
     "height": 35
    },
    "id": "EXzW9S4F0nXo",
    "outputId": "4cedb483-b52a-4649-e9ff-1e23b8c76512"
   },
   "outputs": [],
   "source": [
    "x=\"1\"\n",
    "y=\"2\"\n",
    "z=\"potatis\"\n",
    "\n",
    "# if you are returning only one result from a particular code block, you can omit the 'print'\n",
    "x+y+z"
   ]
  },
  {
   "cell_type": "markdown",
   "metadata": {
    "id": "dswzb7ZV0woy"
   },
   "source": [
    "What happens if you try to concatnate/add a mixture of strings and integers?"
   ]
  },
  {
   "cell_type": "code",
   "execution_count": null,
   "metadata": {
    "id": "g52SyL4I020d"
   },
   "outputs": [],
   "source": [
    "# PRACTICE\n",
    "# Try to concatenate a mixture of strings and integers, what happens?\n",
    "a=1\n",
    "x=\"1\""
   ]
  },
  {
   "cell_type": "markdown",
   "metadata": {
    "id": "B7XVmZSL1G3h"
   },
   "source": [
    "You can convert variables between integer and string states with the following functions: `str()` and `int()`.  E.g., str(1) will turn 1 into \"1\""
   ]
  },
  {
   "cell_type": "code",
   "execution_count": 1,
   "metadata": {},
   "outputs": [],
   "source": [
    "# PRACTICE\n",
    "# Fix you code above to make it work using str() or int()\n",
    "a=1\n",
    "x=\"1\""
   ]
  },
  {
   "cell_type": "markdown",
   "metadata": {},
   "source": [
    "`type()`can be helpful to tell you what your variable is."
   ]
  },
  {
   "cell_type": "code",
   "execution_count": null,
   "metadata": {
    "colab": {
     "base_uri": "https://localhost:8080/"
    },
    "id": "Z-DmcOiY1TO8",
    "outputId": "574d6968-aa37-4af1-a5d1-1a7ec25d3c18"
   },
   "outputs": [],
   "source": [
    "x=\"1\"\n",
    "print(type(x)) # type() tells you what your variable is\n",
    "int_x=int(x)\n",
    "print(type(int_x))"
   ]
  },
  {
   "cell_type": "markdown",
   "metadata": {
    "id": "ygBwirhJCF9Y"
   },
   "source": [
    "For both integers and strings, you can 'add in place' using  `+=` "
   ]
  },
  {
   "cell_type": "code",
   "execution_count": null,
   "metadata": {
    "colab": {
     "base_uri": "https://localhost:8080/"
    },
    "id": "8irsMiVdDdSh",
    "outputId": "8bde1235-18be-42e4-e40c-036db594dd7c"
   },
   "outputs": [],
   "source": [
    "x = \"1234\"\n",
    "x += \"5678\"\n",
    "print(x) # now our variable will encode \"1234\" + \"5678\"\n",
    "\n",
    "a = 1234\n",
    "a += 5678\n",
    "print(a) # now our variable will encode 1234 + 5678"
   ]
  },
  {
   "cell_type": "markdown",
   "metadata": {},
   "source": [
    "### Splitting strings\n",
    "\n",
    "Sometimes you will have a string containing multiple pieces of information, separated by a delimiter. You can ask python to 'split' the string based on these delimiting characters. The default output of splitting is a `list` which we will learn more about below.  "
   ]
  },
  {
   "cell_type": "code",
   "execution_count": 4,
   "metadata": {},
   "outputs": [],
   "source": [
    "string=\"ABCD.EFGH.IJKLM NOPQ.split.RST\"\n",
    "print(string.split()) # will split on blank space\n",
    "print(string.split(\".\")) # will split on '.' space\n",
    "print(string.split(\"split\"))  # will split on 'split'"
   ]
  },
  {
   "cell_type": "markdown",
   "metadata": {},
   "source": [
    "### Float values\n",
    "'float' values or 'floating point numbers' contain decimals. Most calculations require you to store values as floats, unless you only encounter whole numbers. \n"
   ]
  },
  {
   "cell_type": "code",
   "execution_count": null,
   "metadata": {},
   "outputs": [],
   "source": [
    "# Let's print an interger that has a decimal place\n",
    "x=int(1e-6)\n",
    "print(x)\n",
    "\n",
    "# How about a float?\n",
    "y=float(0.0004)\n",
    "print(y)"
   ]
  },
  {
   "cell_type": "markdown",
   "metadata": {},
   "source": [
    "### Arithmetic "
   ]
  },
  {
   "cell_type": "markdown",
   "metadata": {},
   "source": [
    "Quick reference (hint, double click on this Markdown block to see how to write tables!):\n",
    "\n",
    "|Operator|Description|Example|\n",
    "|:---:|:---|:---|\n",
    "|+|adds two operands|x + y|\n",
    "|-|subtracts two operands| x - y |\n",
    "|\\*|multiplies two operands|x \\* y|\n",
    "|/|divides two operands | x / y|\n",
    "|%|'Modulus', returns the remainer of a divions| x % y|\n",
    "|\\*\\*|Exponential, raised to the power of the following number| x \\*\\* y|"
   ]
  },
  {
   "cell_type": "markdown",
   "metadata": {},
   "source": [
    "You can use the Modulus (percent sign) to check if a number is even or odd since it returns the remainder of 1 following a division operation. "
   ]
  },
  {
   "cell_type": "code",
   "execution_count": null,
   "metadata": {},
   "outputs": [],
   "source": [
    "# try \n",
    "3 % 2"
   ]
  },
  {
   "attachments": {
    "114e83fd-46c1-40ef-874c-67e0ba424620.png": {
     "image/png": "[encoded data removed]"
    }
   },
   "cell_type": "markdown",
   "metadata": {},
   "source": [
    "Forbidden variables names\n",
    "https://realpython.com/python-variables/#object-references\n",
    "\n",
    "\n",
    "![image.png](attachment:114e83fd-46c1-40ef-874c-67e0ba424620.png)"
   ]
  },
  {
   "cell_type": "markdown",
   "metadata": {},
   "source": [
    "## Section 03: Lists and Dictionaries and the 0-index\n",
    "---\n",
    "\n",
    "### Lists\n",
    "**Lists**(also called 'arrays' or 'vectors' in other languages) are a collection of ordered items. Lists are represented with square parentheses separated by commas."
   ]
  },
  {
   "cell_type": "code",
   "execution_count": 3,
   "metadata": {},
   "outputs": [],
   "source": [
    "this_is_a_list_of_integers = [1,2,3,4]\n",
    "this_is_a_list_of_strings = [\"a\",\"c\",\"b\"]\n",
    "\n",
    "# You can also have lists within lists\n",
    "this_is_a_list_of_integers_strings_and_lists = [1,2,3,4,\"a\",\"c\",\"b\",this_is_a_list_of_strings]\n",
    "print(this_is_a_list_of_integers_strings_and_lists)"
   ]
  },
  {
   "cell_type": "markdown",
   "metadata": {},
   "source": [
    "You can retrieve items from a list based on their position in the list. However, python uses a 0-index, which means the first item in the list is 'item 0' and the second item is 'item 1' the last item is the length of the list - 1."
   ]
  },
  {
   "cell_type": "code",
   "execution_count": null,
   "metadata": {},
   "outputs": [],
   "source": [
    "myList = [1,2,3,4]\n",
    "\n",
    "# first item in the list\n",
    "first = myList[0] \n",
    "\n",
    "# last item in the list\n",
    "last = myList[-1]  \n",
    "\n",
    "# second last item in the list\n",
    "second_last = myList[-2]  \n",
    "\n",
    "# provide the list starting with the 2nd item (index 1)\n",
    "skip_first = myList[1:] \n",
    "\n",
    "# provide the last two items in the list\n",
    "last_two = myList[-2:] \n",
    "\n",
    "# provide item 2 and item 3 in the list\n",
    "myList[1:3]"
   ]
  },
  {
   "cell_type": "markdown",
   "metadata": {},
   "source": [
    "You can add an item to a list using `.append()` or remove items from a list using `.pop()` or `del` or `.remove()`"
   ]
  },
  {
   "cell_type": "code",
   "execution_count": null,
   "metadata": {},
   "outputs": [],
   "source": [
    "myList = [1,2,3,4]\n",
    "myList.append(\"apple\")\n",
    "print(myList)\n",
    "\n",
    "myList.pop(1) # 'pops' out the 2nd item in myList\n",
    "print(myList)\n",
    "\n",
    "del myList[1] # deletes the 2nd item in the new myList\n",
    "print(myList)\n",
    "\n",
    "myList.remove(\"apple\") # removes the item called 'apple'\n",
    "print(myList)"
   ]
  },
  {
   "cell_type": "markdown",
   "metadata": {
    "tags": []
   },
   "source": [
    "### Splitting strings into lists\n",
    "\n",
    "\n",
    "The `.split()` function allows you to delimit a string on a character. The default character it will use is a blank space. But you can also define the delimiter."
   ]
  },
  {
   "cell_type": "markdown",
   "metadata": {},
   "source": [
    "### Dictionaries \n",
    "\n",
    "Dictionaries are incredibly powerful tools for storing information. A dictionary is a list of keys (=entries) and values (=attributes) you would like to store with each key separated with a ':'.  They are stored in {}."
   ]
  },
  {
   "cell_type": "code",
   "execution_count": null,
   "metadata": {},
   "outputs": [],
   "source": [
    "myDictionary = {\"a\":1,\"b\":2,\"c\":3}\n",
    "\n",
    "# You can access the value of key 'b' using the following syntax.  \n",
    "print(myDictionary[\"b\"])\n",
    "\n",
    "# You can add elements to a dictionary\n",
    "myDictionary[\"d\"] = 4\n",
    "print(myDictionary)\n",
    "\n",
    "# Overwrite elements of a key \n",
    "myDictionary[\"d\"] = 5\n",
    "print(myDictionary)\n",
    "\n",
    "# Add/subtract elements of a keys\n",
    "myDictionary[\"d\"] += 5\n",
    "print(myDictionary)\n",
    "\n",
    "# Remove keys from a dictionary \n",
    "del myDictionary[\"d\"] \n",
    "myDictionary.pop(\"a\")\n",
    "print(myDictionary)\n"
   ]
  },
  {
   "cell_type": "markdown",
   "metadata": {},
   "source": [
    "## Section 04: If, else, for and while\n",
    "---\n",
    "\n",
    "### If/Else\n",
    "For one-line codes like we have run above, python does not really care if there are spaces. E.g., `x=123` is the same as `x = 123` is the same as `x =123`. This is not true in all languages, for example in `bash` one needs to define the variable without a space `x=variable`.  \n",
    "\n",
    "However, spaces (or indents) have a lot of power in loops. Let's look at an `if/else` statement.  "
   ]
  },
  {
   "cell_type": "code",
   "execution_count": null,
   "metadata": {
    "tags": []
   },
   "outputs": [],
   "source": [
    "x=1\n",
    "\n",
    "if x == 1: # to see if an interger matches a value, you use '=='\n",
    "    print(\"It's a 1!\")  # notice the position of the print command\n",
    "\n",
    "    \n",
    "# if commands can exist alone or with 'else'\n",
    "\n",
    "if x == 1: \n",
    "    print(\"It's a 1!\")  # notice the position of the print command\n",
    "else: \n",
    "    print(\"It's not a 1...\")   "
   ]
  },
  {
   "cell_type": "markdown",
   "metadata": {},
   "source": [
    "The `print` command is preceded by spaces (usually 4) or an indent. It's best to decide now what you prefer to use. Jupyter is clever enough to recognize a mixture of indents and spaces, but using python directly on the command-line will not always recognize it. "
   ]
  },
  {
   "cell_type": "code",
   "execution_count": null,
   "metadata": {},
   "outputs": [],
   "source": [
    "#Run the following block to see what an indentation error looks like.  \n",
    "\n",
    "if x == 1: \n",
    "print(\"It's a 1!\")  \n",
    "else: \n",
    "print(\"It's not a 1...\")"
   ]
  },
  {
   "cell_type": "markdown",
   "metadata": {},
   "source": [
    "There is also `elif` (else if) which can help you define additional conditional statements. "
   ]
  },
  {
   "cell_type": "code",
   "execution_count": 5,
   "metadata": {},
   "outputs": [],
   "source": [
    "x=1.5\n",
    "if x<1:\n",
    "    # if x is less than one, print the following\n",
    "    print(\"less than 1\")\n",
    "elif x < 1.5:\n",
    "    # else, if x is less than 1.5, print the following\n",
    "    print(\"less than 1.5\")\n",
    "else:\n",
    "    # if x does not satisfy the conditions above, print the following\n",
    "    print(\"greater than or equal to 1.5\")\n",
    "    \n",
    "# elif is the equivalent of putting an if in an else statement: \n",
    "\n",
    "if x<1:\n",
    "    # if x is less than one, print the following\n",
    "    print(\"less than 1\")\n",
    "else: \n",
    "    if x < 1.5:\n",
    "        # else, if x is less than 1.5, print the following\n",
    "        print(\"less than 1.5\")\n",
    "    else:\n",
    "    # if x does not satisfy the conditions above, print the following\n",
    "        print(\"greater than or equal to 1.5\")\n",
    "    "
   ]
  },
  {
   "cell_type": "markdown",
   "metadata": {},
   "source": [
    "**Logical statements for integers/floats**\n",
    "\n",
    "- Equals: a == b\n",
    "- Not Equals: a != b\n",
    "- Less than: a < b\n",
    "- Less than or equal to: a <= b\n",
    "- Greater than: a > b\n",
    "- Greater than or equal to: a >= b"
   ]
  },
  {
   "cell_type": "markdown",
   "metadata": {},
   "source": [
    "`If/else` statements can also be applied to strings, lists and dictionaries using `in` `not in` or == (equal to) or != (not equal to). "
   ]
  },
  {
   "cell_type": "code",
   "execution_count": null,
   "metadata": {},
   "outputs": [],
   "source": [
    "myString = \"abcde\"\n",
    "myList = [1,2,3,4]\n",
    "myDictionary = {\"a\":1,\"b\":2,\"c\":3}\n",
    "\n",
    "if \"bcd\" in myString:\n",
    "    print(\"bcd found!\")\n",
    "if \"xyz\" not in myString:\n",
    "    print(\"no 'xyz' here!\")\n",
    "if 1 in myList:\n",
    "    print(\"Found 1!\")\n",
    "if \"a\" in myDictionary:\n",
    "    print(\"Found a!\")\n",
    "if \"a\" in myDictionary.keys():\n",
    "    print(\"Found a in keys!\")\n",
    "if 1 in myDictionary.values():\n",
    "    print(\"Found 1 in values!\")\n",
    "if myString[0] == \"a\" :\n",
    "    print(\"First element in myString is a!\")    "
   ]
  },
  {
   "cell_type": "markdown",
   "metadata": {},
   "source": [
    "You can also use `if` statements to assess whether a variable is a `str, list, int, dict,` or `float`"
   ]
  },
  {
   "cell_type": "code",
   "execution_count": null,
   "metadata": {},
   "outputs": [],
   "source": [
    "myString = \"abcde\"\n",
    "\n",
    "if type(myString) == list:\n",
    "    print(\"myString is a list\")\n",
    "elif type(myString) == int:\n",
    "    print(\"myString is an integer\")\n",
    "elif type(myString) == str:\n",
    "    print(\"myString is a ... string\")"
   ]
  },
  {
   "cell_type": "markdown",
   "metadata": {},
   "source": [
    "### For and while\n",
    "\n",
    "`for` loops can help you iterate over a list of items or elements in a string.  "
   ]
  },
  {
   "cell_type": "code",
   "execution_count": null,
   "metadata": {},
   "outputs": [],
   "source": [
    "myList = [1,2,3,4]\n",
    "myString = \"5678\"\n",
    "myDictionary = {\"a\":1,\"b\":2,\"c\":3}\n",
    "# the variable after 'for' does not need to be defined before first mention\n",
    "\n",
    "for number in myList:\n",
    "    print(number)\n",
    "for number in myString:\n",
    "    print(number)\n",
    "for key in myDictionary:\n",
    "    print(myDictionary[key])"
   ]
  },
  {
   "cell_type": "markdown",
   "metadata": {},
   "source": [
    "You can also use `for` loops over interger rangers using the `range` command. "
   ]
  },
  {
   "cell_type": "code",
   "execution_count": null,
   "metadata": {},
   "outputs": [],
   "source": [
    "# here, you are going to run the loop over a range of integers from 0 to 5\n",
    "for x in range(5):\n",
    "    print(x)"
   ]
  },
  {
   "cell_type": "markdown",
   "metadata": {},
   "source": [
    "`while` is also a sort of loop that allows you to enter the loop ONLY if a certain condition is met.  But be careful to not creat an infinite loop where the `while` condition is always met.  "
   ]
  },
  {
   "cell_type": "code",
   "execution_count": null,
   "metadata": {
    "tags": []
   },
   "outputs": [],
   "source": [
    "x = 1\n",
    "while x < 10:\n",
    "    print(x)\n",
    "    x += 1 # if we did not alter the x variable the while loop would go on forever!"
   ]
  },
  {
   "cell_type": "markdown",
   "metadata": {},
   "source": [
    "## HAND-IN ASSIGNMENTS"
   ]
  },
  {
   "cell_type": "markdown",
   "metadata": {},
   "source": [
    "Complete the following two assignments and hand them into me by the end of day, I will give you comments back tomorrow"
   ]
  },
  {
   "cell_type": "code",
   "execution_count": null,
   "metadata": {},
   "outputs": [],
   "source": [
    "# HAND-IN 1 combine what you have learned\n",
    "\n",
    "myList = [1,2,3,4]\n",
    "\n",
    "# Add a string 's' to to myList\n",
    "\n",
    "# Delete the third item\n",
    "\n",
    "# Make an if/else statement to ask if the third item is still present\n",
    "\n",
    "# Write another if/else statement to check if the first item is odd or even\n",
    "    \n",
    "# print your list and check your answer\n",
    "\n",
    "# Copy your code to a text file or new Jupyter notebook and label it HAND-IN 1"
   ]
  },
  {
   "cell_type": "code",
   "execution_count": null,
   "metadata": {},
   "outputs": [],
   "source": [
    "# HAND-IN 2 combine what you have learned\n",
    "\n",
    "myDictionary = {\"a\":1, \"b\":\"Lund\", \"c\":[1,2,3]}\n",
    "\n",
    "# write a for loop to read a dictionary that will print the \n",
    "# value for each key and what type of element it is (string, integer, list) \n",
    "# replace the value of type 'list' with a string \"s\"\n",
    "# Your resulting dictionary should be: {'a': 1, 'b': 'Lund', 'c': 's'}\n",
    "\n",
    "\n",
    "# Copy your code to a text file or new Jupyter notebook and label it HAND-IN 2"
   ]
  }
 ],
 "metadata": {
  "colab": {
   "collapsed_sections": [],
   "name": "Copy of Day01_PythonBasics",
   "provenance": [],
   "toc_visible": true
  },
  "kernelspec": {
   "display_name": "Python 3 (ipykernel)",
   "language": "python",
   "name": "python3"
  },
  "language_info": {
   "codemirror_mode": {
    "name": "ipython",
    "version": 3
   },
   "file_extension": ".py",
   "mimetype": "text/x-python",
   "name": "python",
   "nbconvert_exporter": "python",
   "pygments_lexer": "ipython3",
   "version": "3.9.7"
  }
 },
 "nbformat": 4,
 "nbformat_minor": 4
}
